{
  "nbformat": 4,
  "nbformat_minor": 0,
  "metadata": {
    "colab": {
      "provenance": [],
      "authorship_tag": "ABX9TyO14Qefu9myEHExVfx8ccMT",
      "include_colab_link": true
    },
    "kernelspec": {
      "name": "python3",
      "display_name": "Python 3"
    },
    "language_info": {
      "name": "python"
    }
  },
  "cells": [
    {
      "cell_type": "markdown",
      "metadata": {
        "id": "view-in-github",
        "colab_type": "text"
      },
      "source": [
        "<a href=\"https://colab.research.google.com/github/Arta-DS/Features-and-model-building/blob/main/%D0%A4%D1%83%D0%BD%D0%BA%D1%86%D0%B8%D0%B8_%D0%BF%D0%BE%D1%82%D0%B5%D1%80%D1%8C_%D0%B8_%D0%BE%D0%BF%D1%82%D0%B8%D0%BC%D0%B8%D0%B7%D0%B0%D1%86%D0%B8%D1%8F.ipynb\" target=\"_parent\"><img src=\"https://colab.research.google.com/assets/colab-badge.svg\" alt=\"Open In Colab\"/></a>"
      ]
    },
    {
      "cell_type": "markdown",
      "source": [
        "Загрузите данные. Используйте датасет с ирисами. Его можно загрузить непосредственно из библиотеки Sklearn. В данных оставьте только 2 класса: Iris Versicolor, Iris Virginica."
      ],
      "metadata": {
        "id": "ybv-b5f-FZ7Q"
      }
    },
    {
      "cell_type": "code",
      "execution_count": null,
      "metadata": {
        "colab": {
          "base_uri": "https://localhost:8080/"
        },
        "id": "Y34iYVV5yjsh",
        "outputId": "0f56799b-4ce4-47a8-9425-bd81d1c1ff75"
      },
      "outputs": [
        {
          "output_type": "stream",
          "name": "stdout",
          "text": [
            "Создан новый набор данных, содержащий классы Iris Versicolor и Iris Virginica.\n",
            "Размер нового набора данных: 100\n"
          ]
        }
      ],
      "source": [
        "from sklearn import datasets\n",
        "import numpy as np\n",
        "\n",
        "# Загрузка набора данных ирисов\n",
        "iris = datasets.load_iris()\n",
        "\n",
        "# Получение массива с метками классов\n",
        "target = iris.target\n",
        "\n",
        "# Нахождение индексов классов Iris Versicolor и Iris Virginica\n",
        "index_versicolor = np.where(target == 0)[0]\n",
        "index_virginica = np.where(target == 2)[0]\n",
        "\n",
        "# Объединение индексов\n",
        "index = np.concatenate((index_versicolor, index_virginica))\n",
        "\n",
        "# Создание нового набора данных\n",
        "X = iris.data[index]\n",
        "y = target[index]\n",
        "\n",
        "# Проверка новых данных\n",
        "print(\"Создан новый набор данных, содержащий классы Iris Versicolor и Iris Virginica.\")\n",
        "print(f\"Размер нового набора данных: {len(X)}\")"
      ]
    },
    {
      "cell_type": "markdown",
      "source": [
        "Самостоятельно реализуйте логистическую регрессию, без использования метода LogisticRegression из библиотеки. Можете использовать библиотеки pandas, numpy, math для реализации. Оформите в виде функции. *Оформите в виде класса с методами."
      ],
      "metadata": {
        "id": "hqumBAaQFiLi"
      }
    },
    {
      "cell_type": "code",
      "source": [
        "import pandas as pd\n",
        "import math\n",
        "\n",
        "class LogisticRegressionCustom:\n",
        "    def __init__(self, learning_rate=0.01, num_iterations=1000):\n",
        "        self.learning_rate = learning_rate\n",
        "        self.num_iterations = num_iterations\n",
        "        self.weights = None\n",
        "        self.bias = None\n",
        "\n",
        "    def sigmoid(self, z):\n",
        "        return 1 / (1 + np.exp(-z))\n",
        "\n",
        "    def fit(self, X, y):\n",
        "        num_samples, num_features = X.shape\n",
        "\n",
        "        # Инициализация весов и смещения\n",
        "        self.weights = np.zeros(num_features)\n",
        "        self.bias = 0\n",
        "\n",
        "        # Оптимизация весов\n",
        "        for _ in range(self.num_iterations):\n",
        "            linear_model = np.dot(X, self.weights) + self.bias\n",
        "            y_predicted = self.sigmoid(linear_model)\n",
        "\n",
        "            # Обновление весов и смещения\n",
        "            dw = (1 / num_samples) * np.dot(X.T, (y_predicted - y))\n",
        "            db = (1 / num_samples) * np.sum(y_predicted - y)\n",
        "            self.weights -= self.learning_rate * dw\n",
        "            self.bias -= self.learning_rate * db\n",
        "\n",
        "    def predict(self, X):\n",
        "        linear_model = np.dot(X, self.weights) + self.bias\n",
        "        y_predicted = self.sigmoid(linear_model)\n",
        "        y_classes = [1 if i > 0.5 else 0 for i in y_predicted]\n",
        "        return np.array(y_classes)"
      ],
      "metadata": {
        "id": "IaJ1RgiNFY0t"
      },
      "execution_count": null,
      "outputs": []
    },
    {
      "cell_type": "markdown",
      "source": [
        "Реализуйте метод градиентного спуска. Обучите логистическую регрессию этим методом. Выберете и посчитайте метрику качества. Метрика должна быть одинакова для всех пунктов домашнего задания. Для упрощения сравнения выберете только одну метрику."
      ],
      "metadata": {
        "id": "CTPXbZU8Hi3N"
      }
    },
    {
      "cell_type": "code",
      "source": [
        "index_versicolor = np.where(target == 1)[0]\n",
        "index_virginica = np.where(target == 2)[0]\n",
        "index = np.concatenate((index_versicolor, index_virginica))\n",
        "\n",
        "X = iris.data[index]\n",
        "y = target[index] - 1  # Преобразование меток 1, 2 в 0, 1\n",
        "\n",
        "model = LogisticRegressionCustom(learning_rate=0.01, num_iterations=1000)\n",
        "model.fit(X, y)\n",
        "\n",
        "predictions = model.predict(X)\n",
        "\n",
        "accuracy = np.mean(predictions == y)\n",
        "print(f\"Точность модели: {accuracy * 100:.2f}%\")"
      ],
      "metadata": {
        "colab": {
          "base_uri": "https://localhost:8080/"
        },
        "id": "n8TBQFCdIKEV",
        "outputId": "8d77e34e-faa0-47de-f506-685284b88721"
      },
      "execution_count": null,
      "outputs": [
        {
          "output_type": "stream",
          "name": "stdout",
          "text": [
            "Точность модели: 96.00%\n"
          ]
        }
      ]
    },
    {
      "cell_type": "markdown",
      "source": [
        "Повторите для метода скользящего среднего (Root Mean Square Propagation, RMSProp)."
      ],
      "metadata": {
        "id": "4Bdzr3IXIb3f"
      }
    },
    {
      "cell_type": "code",
      "source": [
        "from sklearn.metrics import accuracy_score\n",
        "\n",
        "class LogisticRegressionCustomRMSProp:\n",
        "    def __init__(self, learning_rate=0.01, num_iterations=1000, beta=0.9, epsilon=1e-8):\n",
        "        self.learning_rate = learning_rate\n",
        "        self.num_iterations = num_iterations\n",
        "        self.beta = beta\n",
        "        self.epsilon = epsilon\n",
        "        self.weights = None\n",
        "        self.bias = None\n",
        "\n",
        "    def sigmoid(self, z):\n",
        "        return 1 / (1 + np.exp(-z))\n",
        "\n",
        "    def fit(self, X, y):\n",
        "        num_samples, num_features = X.shape\n",
        "\n",
        "        # Инициализация весов и смещения\n",
        "        self.weights = np.zeros(num_features)\n",
        "        self.bias = 0\n",
        "\n",
        "        # Инициализация скользящего среднего\n",
        "        weight_cache = np.zeros(num_features)\n",
        "        bias_cache = 0\n",
        "\n",
        "        # Градиентный спуск\n",
        "        for _ in range(self.num_iterations):\n",
        "            linear_model = np.dot(X, self.weights) + self.bias\n",
        "            y_predicted = self.sigmoid(linear_model)\n",
        "\n",
        "            # Вычисление градиентов\n",
        "            dw = (1 / num_samples) * np.dot(X.T, (y_predicted - y))\n",
        "            db = (1 / num_samples) * np.sum(y_predicted - y)\n",
        "\n",
        "            # Обновление скользящего среднего\n",
        "            weight_cache = self.beta * weight_cache + (1 - self.beta) * (dw ** 2)\n",
        "            bias_cache = self.beta * bias_cache + (1 - self.beta) * (db ** 2)\n",
        "\n",
        "            # Обновление весов и смещений с учетом RMSProp\n",
        "            self.weights -= self.learning_rate * dw / (np.sqrt(weight_cache) + self.epsilon)\n",
        "            self.bias -= self.learning_rate * db / (np.sqrt(bias_cache) + self.epsilon)\n",
        "\n",
        "    def predict(self, X):\n",
        "        linear_model = np.dot(X, self.weights) + self.bias\n",
        "        y_predicted = self.sigmoid(linear_model)\n",
        "        y_classes = [1 if i > 0.5 else 0 for i in y_predicted]\n",
        "        return np.array(y_classes)"
      ],
      "metadata": {
        "id": "wXkjVhe7Icjk"
      },
      "execution_count": null,
      "outputs": []
    },
    {
      "cell_type": "code",
      "source": [
        "# Обучение модели логистической регрессии с RMSProp\n",
        "model_rmsprop = LogisticRegressionCustomRMSProp(learning_rate=0.01, num_iterations=1000)\n",
        "model_rmsprop.fit(X, y)\n",
        "\n",
        "# Прогнозирование\n",
        "predictions_rmsprop = model_rmsprop.predict(X)\n",
        "\n",
        "# Оценка результатов\n",
        "accuracy_rmsprop = accuracy_score(y, predictions_rmsprop)\n",
        "print(f\"Точность модели с RMSProp: {accuracy_rmsprop * 100:.2f}%\")"
      ],
      "metadata": {
        "colab": {
          "base_uri": "https://localhost:8080/"
        },
        "id": "gYl0Ll2tI88Z",
        "outputId": "477736d4-8ea7-4358-ea12-e6a4dd009b13"
      },
      "execution_count": null,
      "outputs": [
        {
          "output_type": "stream",
          "name": "stdout",
          "text": [
            "Точность модели с RMSProp: 97.00%\n"
          ]
        }
      ]
    },
    {
      "cell_type": "markdown",
      "source": [
        "Повторите то же для ускоренного по Нестерову метода адаптивной оценки моментов (Nesterov–accelerated Adaptive Moment Estimation, Nadam)."
      ],
      "metadata": {
        "id": "mLDYxl44JWXb"
      }
    },
    {
      "cell_type": "code",
      "source": [
        "class LogisticRegressionCustomNadam:\n",
        "    def __init__(self, learning_rate=0.01, num_iterations=1000, beta1=0.9, beta2=0.999, epsilon=1e-8):\n",
        "        self.learning_rate = learning_rate\n",
        "        self.num_iterations = num_iterations\n",
        "        self.beta1 = beta1\n",
        "        self.beta2 = beta2\n",
        "        self.epsilon = epsilon\n",
        "        self.weights = None\n",
        "        self.bias = None\n",
        "\n",
        "    def sigmoid(self, z):\n",
        "        return 1 / (1 + np.exp(-z))\n",
        "\n",
        "    def fit(self, X, y):\n",
        "        num_samples, num_features = X.shape\n",
        "\n",
        "        # Инициализация весов и смещения\n",
        "        self.weights = np.zeros(num_features)\n",
        "        self.bias = 0\n",
        "\n",
        "        # Инициализация моментов\n",
        "        m_w = np.zeros(num_features)\n",
        "        v_w = np.zeros(num_features)\n",
        "        m_b = 0\n",
        "        v_b = 0\n",
        "        t = 0\n",
        "\n",
        "        # Градиентный спуск\n",
        "        for _ in range(self.num_iterations):\n",
        "            t += 1\n",
        "            linear_model = np.dot(X, self.weights) + self.bias\n",
        "            y_predicted = self.sigmoid(linear_model)\n",
        "\n",
        "            # Вычисление градиентов\n",
        "            dw = (1 / num_samples) * np.dot(X.T, (y_predicted - y))\n",
        "            db = (1 / num_samples) * np.sum(y_predicted - y)\n",
        "\n",
        "            # Обновление моментов\n",
        "            m_w = self.beta1 * m_w + (1 - self.beta1) * dw\n",
        "            v_w = self.beta2 * v_w + (1 - self.beta2) * (dw ** 2)\n",
        "            m_b = self.beta1 * m_b + (1 - self.beta1) * db\n",
        "            v_b = self.beta2 * v_b + (1 - self.beta2) * (db ** 2)\n",
        "\n",
        "            # Корректировка моментов\n",
        "            m_w_hat = m_w / (1 - self.beta1 ** t)\n",
        "            v_w_hat = v_w / (1 - self.beta2 ** t)\n",
        "            m_b_hat = m_b / (1 - self.beta1 ** t)\n",
        "            v_b_hat = v_b / (1 - self.beta2 ** t)\n",
        "\n",
        "            # Nesterov momentum update\n",
        "            self.weights -= self.learning_rate * ((self.beta1 * m_w_hat) + (dw / (1 - self.beta1 ** t))\n",
        "                                                  / (np.sqrt(v_w_hat) + self.epsilon))\n",
        "            self.bias -= self.learning_rate * ((self.beta1 * m_b_hat) + (db / (1 - self.beta1 ** t))\n",
        "                                               / (np.sqrt(v_b_hat) + self.epsilon))\n",
        "\n",
        "    def predict(self, X):\n",
        "        linear_model = np.dot(X, self.weights) + self.bias\n",
        "        y_predicted = self.sigmoid(linear_model)\n",
        "        y_classes = [1 if i > 0.5 else 0 for i in y_predicted]\n",
        "        return np.array(y_classes)"
      ],
      "metadata": {
        "id": "ofs-FAYcJaVP"
      },
      "execution_count": null,
      "outputs": []
    },
    {
      "cell_type": "code",
      "source": [
        "# Обучение модели логистической регрессии с Nadam\n",
        "model_nadam = LogisticRegressionCustomNadam(learning_rate=0.01, num_iterations=1000)\n",
        "model_nadam.fit(X, y)\n",
        "\n",
        "# Прогнозирование\n",
        "predictions_nadam = model_nadam.predict(X)\n",
        "\n",
        "# Оценка результатов\n",
        "accuracy_nadam = accuracy_score(y, predictions_nadam)\n",
        "print(f\"Точность модели с Nadam: {accuracy_nadam * 100:.2f}%\")\n"
      ],
      "metadata": {
        "colab": {
          "base_uri": "https://localhost:8080/"
        },
        "id": "-PRbkqpNJvXC",
        "outputId": "a902542d-78d7-429c-86fa-775849b02ec6"
      },
      "execution_count": null,
      "outputs": [
        {
          "output_type": "stream",
          "name": "stdout",
          "text": [
            "Точность модели с Nadam: 97.00%\n"
          ]
        }
      ]
    },
    {
      "cell_type": "markdown",
      "source": [
        "Сравните значение метрик для реализованных методов оптимизации. Можно оформить в виде таблицы вида |метод|метрика|время работы| (время работы опционально). Напишите вывод."
      ],
      "metadata": {
        "id": "LWQnmH03J99S"
      }
    },
    {
      "cell_type": "markdown",
      "source": [
        "На основе проведенного сравнения методов оптимизации видно, что **Nadam** и **RMSProp** показали наилучший результат по метрике точности (97.00%), что делает их наиболее эффективным среди протестированных методов."
      ],
      "metadata": {
        "id": "jzMs0nZ5K95O"
      }
    }
  ]
}